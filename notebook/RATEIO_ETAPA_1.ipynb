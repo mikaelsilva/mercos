{
  "nbformat": 4,
  "nbformat_minor": 0,
  "metadata": {
    "colab": {
      "provenance": [],
      "collapsed_sections": [
        "OFxt0LLOgCx7",
        "LyyYPh0U95xC",
        "GWlRY4wC-79C",
        "wbKygXHn_VC5",
        "En6Z4lTIA1GB",
        "jQcluBx6Emla"
      ]
    },
    "kernelspec": {
      "name": "python3",
      "display_name": "Python 3"
    },
    "language_info": {
      "name": "python"
    }
  },
  "cells": [
    {
      "cell_type": "code",
      "execution_count": 1,
      "metadata": {
        "colab": {
          "base_uri": "https://localhost:8080/"
        },
        "id": "2BhAb12Of2Qs",
        "outputId": "9b22dbef-f55a-4134-914c-1acee9129fb9"
      },
      "outputs": [
        {
          "output_type": "stream",
          "name": "stdout",
          "text": [
            "Requirement already satisfied: pyspark in /usr/local/lib/python3.11/dist-packages (3.5.5)\n",
            "Requirement already satisfied: py4j==0.10.9.7 in /usr/local/lib/python3.11/dist-packages (from pyspark) (0.10.9.7)\n"
          ]
        }
      ],
      "source": [
        "!pip install pyspark"
      ]
    },
    {
      "cell_type": "code",
      "source": [
        "from pyspark.sql import SparkSession\n",
        "from pyspark.sql import functions as F\n",
        "import json"
      ],
      "metadata": {
        "id": "CQBbsVHCgBqF"
      },
      "execution_count": 2,
      "outputs": []
    },
    {
      "cell_type": "code",
      "source": [
        "spark = SparkSession.builder.appName('Rateio Etapa 1').getOrCreate()"
      ],
      "metadata": {
        "id": "Pc68YwgvgCOj"
      },
      "execution_count": 3,
      "outputs": []
    },
    {
      "cell_type": "code",
      "source": [
        "spark"
      ],
      "metadata": {
        "colab": {
          "base_uri": "https://localhost:8080/",
          "height": 219
        },
        "id": "EHERZCP5gYu8",
        "outputId": "d4b09887-cf1b-4148-f205-f8447c7601d2"
      },
      "execution_count": 4,
      "outputs": [
        {
          "output_type": "execute_result",
          "data": {
            "text/plain": [
              "<pyspark.sql.session.SparkSession at 0x7d57d023a190>"
            ],
            "text/html": [
              "\n",
              "            <div>\n",
              "                <p><b>SparkSession - in-memory</b></p>\n",
              "                \n",
              "        <div>\n",
              "            <p><b>SparkContext</b></p>\n",
              "\n",
              "            <p><a href=\"http://7566720b7290:4040\">Spark UI</a></p>\n",
              "\n",
              "            <dl>\n",
              "              <dt>Version</dt>\n",
              "                <dd><code>v3.5.5</code></dd>\n",
              "              <dt>Master</dt>\n",
              "                <dd><code>local[*]</code></dd>\n",
              "              <dt>AppName</dt>\n",
              "                <dd><code>Rateio Etapa 1</code></dd>\n",
              "            </dl>\n",
              "        </div>\n",
              "        \n",
              "            </div>\n",
              "        "
            ]
          },
          "metadata": {},
          "execution_count": 4
        }
      ]
    },
    {
      "cell_type": "code",
      "source": [],
      "metadata": {
        "id": "OcTpjciRxx-Y"
      },
      "execution_count": null,
      "outputs": []
    },
    {
      "cell_type": "markdown",
      "source": [
        "## Funções auxiliares"
      ],
      "metadata": {
        "id": "OFxt0LLOgCx7"
      }
    },
    {
      "cell_type": "code",
      "source": [
        "@F.udf('string')\n",
        "def formato_data(data):\n",
        "  if data:\n",
        "    if '/' in data:\n",
        "      data_ = data.split('/')\n",
        "      return data_[-1] + '-' + data_[1] + '-' + data_[0]\n",
        "  return data\n",
        "\n",
        "@F.udf('string')\n",
        "def flag_rateio(rateio):\n",
        "  if rateio:\n",
        "    return 'S'\n",
        "  return 'N'\n",
        "\n",
        "@F.udf('double')\n",
        "def valor_pos_rateio(valor, pos_rateio):\n",
        "  if pos_rateio is None:\n",
        "    return valor\n",
        "  return pos_rateio"
      ],
      "metadata": {
        "id": "5SW83ubgVzCz"
      },
      "execution_count": 5,
      "outputs": []
    },
    {
      "cell_type": "markdown",
      "source": [
        "## Leitura dos dados"
      ],
      "metadata": {
        "id": "bylpsLHHgEpy"
      }
    },
    {
      "cell_type": "code",
      "source": [
        "json_lancamentos = spark.read.json('/content/data/lancamentos.json')"
      ],
      "metadata": {
        "id": "Ek6PKngkgCQq"
      },
      "execution_count": 6,
      "outputs": []
    },
    {
      "cell_type": "code",
      "source": [
        "lancamentos = json_lancamentos.withColumn('array_columns', F.array(*[json_lancamentos.columns]))\\\n",
        "                              .select('array_columns')\\\n",
        "                              .withColumn('columns', F.explode('array_columns'))\\\n",
        "                              .select('columns')\\\n",
        "                              .select(\"columns.ds_periodicidade\",\"columns.dt_competencia\",\"columns.dt_pagamento\",\"columns.dt_vencimento\",\"columns.id_centro_custo\",\n",
        "\"columns.id_centro_resultado\",\"columns.id_forma_pagamento\",\"columns.id_lancamento\",\"columns.valor\")"
      ],
      "metadata": {
        "id": "X8Xfqhm-WiAj"
      },
      "execution_count": 7,
      "outputs": []
    },
    {
      "cell_type": "code",
      "source": [
        "lancamentos.show(2,False)"
      ],
      "metadata": {
        "colab": {
          "base_uri": "https://localhost:8080/"
        },
        "id": "kx-Lp8oKYMy_",
        "outputId": "c79e5835-36bb-4add-d54b-0e751bdbb079"
      },
      "execution_count": 8,
      "outputs": [
        {
          "output_type": "stream",
          "name": "stdout",
          "text": [
            "+----------------+--------------+------------+-------------+---------------+-------------------+------------------+-------------+-------+\n",
            "|ds_periodicidade|dt_competencia|dt_pagamento|dt_vencimento|id_centro_custo|id_centro_resultado|id_forma_pagamento|id_lancamento|valor  |\n",
            "+----------------+--------------+------------+-------------+---------------+-------------------+------------------+-------------+-------+\n",
            "|NULL            |30/11/2024    |NULL        |2024-10-31   |125737         |288                |236252            |47152863     |-125.49|\n",
            "|NULL            |31/10/2024    |NULL        |2024-10-31   |32             |902                |236252            |46975400     |-209.13|\n",
            "+----------------+--------------+------------+-------------+---------------+-------------------+------------------+-------------+-------+\n",
            "only showing top 2 rows\n",
            "\n"
          ]
        }
      ]
    },
    {
      "cell_type": "code",
      "source": [
        "lancamentos.count()"
      ],
      "metadata": {
        "colab": {
          "base_uri": "https://localhost:8080/"
        },
        "id": "eHFThLqBtjTN",
        "outputId": "c9993ff4-14ae-4f79-be68-f313d759a85b"
      },
      "execution_count": 9,
      "outputs": [
        {
          "output_type": "execute_result",
          "data": {
            "text/plain": [
              "1312"
            ]
          },
          "metadata": {},
          "execution_count": 9
        }
      ]
    },
    {
      "cell_type": "code",
      "source": [
        "json_metricas = spark.read.json('/content/data/metricas.json')"
      ],
      "metadata": {
        "id": "7NErHxmtagnO"
      },
      "execution_count": 11,
      "outputs": []
    },
    {
      "cell_type": "code",
      "source": [
        "metricas = json_metricas.withColumn('array_columns', F.array(*[json_metricas.columns]))\\\n",
        "                              .select('array_columns')\\\n",
        "                              .withColumn('columns', F.explode('array_columns'))\\\n",
        "                              .select('columns')\\\n",
        "                              .select(\"columns.ds_canal_aquisicao\",\"columns.ds_metrica\",\"columns.ds_segmento\",\"columns.dt_referencia\",\"columns.total\")"
      ],
      "metadata": {
        "id": "aGso0KPVXrOS"
      },
      "execution_count": 13,
      "outputs": []
    },
    {
      "cell_type": "code",
      "source": [
        "metricas.show(5,False)"
      ],
      "metadata": {
        "colab": {
          "base_uri": "https://localhost:8080/"
        },
        "id": "grNtir4QY4Oq",
        "outputId": "5485130f-560b-4cc2-eda3-c0b6e5e29d4e"
      },
      "execution_count": 14,
      "outputs": [
        {
          "output_type": "stream",
          "name": "stdout",
          "text": [
            "+------------------+----------+-----------+-------------+--------+\n",
            "|ds_canal_aquisicao|ds_metrica|ds_segmento|dt_referencia|total   |\n",
            "+------------------+----------+-----------+-------------+--------+\n",
            "|canalA            |metrica_1 |segmento-S |2024-10-31   |10906.27|\n",
            "|canalA            |metrica_1 |segmento-M |2024-11-30   |21518.88|\n",
            "|canalB            |metrica_2 |segmento-R |2022-09-30   |11646.6 |\n",
            "|canalB            |metrica_3 |segmento-M |2023-06-30   |21305.87|\n",
            "|canalB            |metrica_3 |segmento-S |2023-06-30   |26511.85|\n",
            "+------------------+----------+-----------+-------------+--------+\n",
            "only showing top 5 rows\n",
            "\n"
          ]
        }
      ]
    },
    {
      "cell_type": "code",
      "source": [
        "metricas.count()"
      ],
      "metadata": {
        "colab": {
          "base_uri": "https://localhost:8080/"
        },
        "id": "-fg2qxe6tlZv",
        "outputId": "2288a98e-3120-4361-8714-9905c6e0d88d"
      },
      "execution_count": 15,
      "outputs": [
        {
          "output_type": "execute_result",
          "data": {
            "text/plain": [
              "573"
            ]
          },
          "metadata": {},
          "execution_count": 15
        }
      ]
    },
    {
      "cell_type": "code",
      "source": [],
      "metadata": {
        "id": "mfVpGfjPTsJN"
      },
      "execution_count": null,
      "outputs": []
    },
    {
      "cell_type": "markdown",
      "source": [
        "## Rateio 1 - CENTROS (100 | 204) - Canais (A e B) por segmentos\n",
        "1. Realizar o cast de todos os campos de datas e o campo de valor\n",
        "1. Filtro dos lançamentos dos meses de OUTUBRO e NOVEMBRO\n",
        "1. Separar o dataset em 2:\n",
        "  - Filtro dos centros 100 (centro custo - 0) e 204 (centro de custo 81044)\n",
        "  - Restando do dataset fora os centros (100 e 204)\n",
        "1. Preparar o dataset de métricas, agrupando o valores totais por CANAL (ANO,MES) | SEGMENTO (ANO, MES) | TOTAL (CANAL + SEGMENTO)(ANO, MES) | TOTAL_METRICA_2 (ANO, MES)\n",
        "1. Calculo do valor (metrica do canal+segmento / total metrica 2)\n",
        "1. Join com a tabela de LANÇAMENTOS e calculo com o Valor de Lançamento\n",
        "1. Criação de colunas de FLAG_RATEIO indicando se houve rateio para aquele dado e coluna VALOR_POS_RATEIO\n",
        "1. Select e ordenaçao de colunas para uma melhor visualização dos dados\n",
        "1. Union com os dados que não foram analisados para o rateio\n",
        "1. Salvamento dos dados .parquet"
      ],
      "metadata": {
        "id": "c2NCfuErsLyP"
      }
    },
    {
      "cell_type": "code",
      "source": [
        "lanc = lancamentos.withColumn('dt_vencimento',F.col('dt_vencimento').cast('timestamp'))\\\n",
        "                  .withColumn('dt_pagamento',F.col('dt_pagamento').cast('timestamp'))\\\n",
        "                  .withColumn('dt_competencia',formato_data(F.col('dt_competencia')).cast('timestamp'))\\\n",
        "                  .withColumn('valor',F.col('valor').cast('double'))"
      ],
      "metadata": {
        "id": "j9HAWY3MsYcv"
      },
      "execution_count": 16,
      "outputs": []
    },
    {
      "cell_type": "markdown",
      "source": [
        "### Separando os DATASETS"
      ],
      "metadata": {
        "id": "LyyYPh0U95xC"
      }
    },
    {
      "cell_type": "code",
      "source": [
        "## Parte do dataset para RATEIO\n",
        "lanc_raterio = lanc.where('month(dt_competencia) = 10 or month(dt_competencia) = 11')\\\n",
        "                   .where('id_centro_resultado = 100 or id_centro_resultado = 204')"
      ],
      "metadata": {
        "id": "l7o9Mvddmli9"
      },
      "execution_count": 17,
      "outputs": []
    },
    {
      "cell_type": "code",
      "source": [
        "## Parte do dataset que NAO sera feito RATEIO\n",
        "lanc_nao_raterio = lanc.where('(month(dt_competencia) != 10 and month(dt_competencia) != 11) or (id_centro_resultado != 100 and id_centro_resultado != 204)')\\\n",
        "                       .withColumn('flag_rateio', F.lit('N').cast('string'))\\\n",
        "                       .withColumn('valor_pos_rateio', F.col('valor'))\\\n",
        "                       .withColumn('ds_canal_aquisicao', F.lit(None))\\\n",
        "                       .withColumn('ds_segmento', F.lit(None))\\\n",
        "                       .select([\"id_lancamento\", \"id_centro_custo\", \"id_centro_resultado\", \"id_forma_pagamento\",\"ds_periodicidade\", \"dt_vencimento\", \"dt_pagamento\", \"dt_competencia\", \"valor\",\"ds_canal_aquisicao\",\"ds_segmento\", \"flag_rateio\", \"valor_pos_rateio\"])"
      ],
      "metadata": {
        "id": "lvo9MF7XnF1J"
      },
      "execution_count": 18,
      "outputs": []
    },
    {
      "cell_type": "code",
      "source": [
        "# Count total da tabela\n",
        "#1312"
      ],
      "metadata": {
        "id": "GalZ6g0hocFu"
      },
      "execution_count": 19,
      "outputs": []
    },
    {
      "cell_type": "code",
      "source": [
        "# Count dos valores para RATEIO\n",
        "lanc_raterio.count()"
      ],
      "metadata": {
        "colab": {
          "base_uri": "https://localhost:8080/"
        },
        "id": "MuythqBk11do",
        "outputId": "8dab3ae4-413b-4a8b-d2fb-c7896277c98d"
      },
      "execution_count": 20,
      "outputs": [
        {
          "output_type": "execute_result",
          "data": {
            "text/plain": [
              "172"
            ]
          },
          "metadata": {},
          "execution_count": 20
        }
      ]
    },
    {
      "cell_type": "code",
      "source": [
        "# Count dos valores para NAO RATEIO\n",
        "lanc_nao_raterio.count()"
      ],
      "metadata": {
        "colab": {
          "base_uri": "https://localhost:8080/"
        },
        "id": "oYa1lciypQOf",
        "outputId": "efa6cb55-909e-49f7-ee29-548b727e552f"
      },
      "execution_count": 21,
      "outputs": [
        {
          "output_type": "execute_result",
          "data": {
            "text/plain": [
              "1140"
            ]
          },
          "metadata": {},
          "execution_count": 21
        }
      ]
    },
    {
      "cell_type": "code",
      "source": [],
      "metadata": {
        "id": "Ge_ijF8LoSFO"
      },
      "execution_count": 21,
      "outputs": []
    },
    {
      "cell_type": "markdown",
      "source": [
        "### Preparando o dataset de metricas"
      ],
      "metadata": {
        "id": "GWlRY4wC-79C"
      }
    },
    {
      "cell_type": "code",
      "source": [
        "metr = metricas.where(\"ds_metrica like 'metrica_2'\")\\\n",
        "               .withColumn('dt_referencia', F.col('dt_referencia').cast('timestamp'))\\\n",
        "               .withColumn('total',F.col('total').cast('double'))\\\n",
        "               .withColumn('year', F.year('dt_referencia'))\\\n",
        "               .withColumn('month', F.month('dt_referencia'))\\\n",
        "               .where('month = 10 or month = 11')\\\n",
        "               .where('(ds_canal_aquisicao like \"canalA\" or ds_canal_aquisicao like \"canalB\") and ds_segmento like \"%segmento%\"')"
      ],
      "metadata": {
        "id": "kmUlccJL6Qbn"
      },
      "execution_count": 22,
      "outputs": []
    },
    {
      "cell_type": "code",
      "source": [
        "metr.count()"
      ],
      "metadata": {
        "colab": {
          "base_uri": "https://localhost:8080/"
        },
        "id": "BYUDbXtwWa9o",
        "outputId": "e1c63e4f-7910-4e53-d029-e4c4698812ef"
      },
      "execution_count": 23,
      "outputs": [
        {
          "output_type": "execute_result",
          "data": {
            "text/plain": [
              "37"
            ]
          },
          "metadata": {},
          "execution_count": 23
        }
      ]
    },
    {
      "cell_type": "code",
      "source": [
        "metr.show(5,False)"
      ],
      "metadata": {
        "colab": {
          "base_uri": "https://localhost:8080/"
        },
        "id": "uUF-8X8yOLVk",
        "outputId": "ef524ca8-6c05-459a-d860-ccee2de30964"
      },
      "execution_count": 24,
      "outputs": [
        {
          "output_type": "stream",
          "name": "stdout",
          "text": [
            "+------------------+----------+-----------+-------------------+-----------------+----+-----+\n",
            "|ds_canal_aquisicao|ds_metrica|ds_segmento|dt_referencia      |total            |year|month|\n",
            "+------------------+----------+-----------+-------------------+-----------------+----+-----+\n",
            "|canalA            |metrica_2 |segmento-S |2022-11-30 00:00:00|509890.3099999999|2022|11   |\n",
            "|canalB            |metrica_2 |segmento-S |2022-11-30 00:00:00|484163.4900000003|2022|11   |\n",
            "|canalA            |metrica_2 |segmento-M |2022-10-31 00:00:00|803912.6300000001|2022|10   |\n",
            "|canalA            |metrica_2 |segmento-R |2022-10-31 00:00:00|15843.29         |2022|10   |\n",
            "|canalA            |metrica_2 |segmento-S |2022-10-31 00:00:00|506732.48        |2022|10   |\n",
            "+------------------+----------+-----------+-------------------+-----------------+----+-----+\n",
            "only showing top 5 rows\n",
            "\n"
          ]
        }
      ]
    },
    {
      "cell_type": "code",
      "source": [
        "metrica_2_mes = metr.select('year','month','total')\\\n",
        "                    .groupBy(['year','month',])\\\n",
        "                    .agg(F.sum(\"total\").alias(\"total_aquisicao_seguimento_mes\"))"
      ],
      "metadata": {
        "id": "hELaMR3__xQ3"
      },
      "execution_count": 25,
      "outputs": []
    },
    {
      "cell_type": "code",
      "source": [
        "metrica_2_mes.show(5,False)"
      ],
      "metadata": {
        "colab": {
          "base_uri": "https://localhost:8080/"
        },
        "id": "jsPxl-X8wumO",
        "outputId": "c60d8d6b-cccd-4f8a-f07f-a5d9e1855bee"
      },
      "execution_count": 26,
      "outputs": [
        {
          "output_type": "stream",
          "name": "stdout",
          "text": [
            "+----+-----+------------------------------+\n",
            "|year|month|total_aquisicao_seguimento_mes|\n",
            "+----+-----+------------------------------+\n",
            "|2022|10   |2389182.9500000007            |\n",
            "|2024|10   |5069966.460000005             |\n",
            "|2022|11   |2409471.19                    |\n",
            "|2023|11   |4382979.360000007             |\n",
            "|2024|11   |5131834.320000003             |\n",
            "+----+-----+------------------------------+\n",
            "only showing top 5 rows\n",
            "\n"
          ]
        }
      ]
    },
    {
      "cell_type": "markdown",
      "source": [
        "### Calculando -> Valor Rateado para Canal = (Métrica do Canal / Total da Métrica)"
      ],
      "metadata": {
        "id": "wbKygXHn_VC5"
      }
    },
    {
      "cell_type": "code",
      "source": [
        "rateio_canal_segmento = metr.join(metrica_2_mes, ['year','month'])\\\n",
        "                            .withColumn('canal_segmento_por_total_metrica',F.col('total')/F.col('total_aquisicao_seguimento_mes'))\\\n",
        "                            .withColumnRenamed('dt_referencia','dt_competencia')\\\n",
        "                            .select('dt_competencia','ds_canal_aquisicao','ds_segmento','total','total_aquisicao_seguimento_mes','canal_segmento_por_total_metrica')"
      ],
      "metadata": {
        "id": "B_WfoAxhLYiX"
      },
      "execution_count": 27,
      "outputs": []
    },
    {
      "cell_type": "code",
      "source": [
        "rateio_canal_segmento.orderBy('dt_competencia').show(5,False)"
      ],
      "metadata": {
        "colab": {
          "base_uri": "https://localhost:8080/"
        },
        "id": "_NuX2NOLwnRn",
        "outputId": "af5c095a-d7af-485b-c68f-20e69ca88579"
      },
      "execution_count": 28,
      "outputs": [
        {
          "output_type": "stream",
          "name": "stdout",
          "text": [
            "+-------------------+------------------+-----------+-----------------+------------------------------+--------------------------------+\n",
            "|dt_competencia     |ds_canal_aquisicao|ds_segmento|total            |total_aquisicao_seguimento_mes|canal_segmento_por_total_metrica|\n",
            "+-------------------+------------------+-----------+-----------------+------------------------------+--------------------------------+\n",
            "|2022-10-31 00:00:00|canalB            |segmento-R |11646.6          |2389182.9500000007            |0.004874720874765994            |\n",
            "|2022-10-31 00:00:00|canalB            |segmento-S |468160.9000000006|2389182.9500000007            |0.1959502096731439              |\n",
            "|2022-10-31 00:00:00|canalB            |segmento-M |582887.0499999999|2389182.9500000007            |0.24396919875893128             |\n",
            "|2022-10-31 00:00:00|canalA            |segmento-S |506732.48        |2389182.9500000007            |0.21209446518107783             |\n",
            "|2022-10-31 00:00:00|canalA            |segmento-R |15843.29         |2389182.9500000007            |0.006631258606629516            |\n",
            "+-------------------+------------------+-----------+-----------------+------------------------------+--------------------------------+\n",
            "only showing top 5 rows\n",
            "\n"
          ]
        }
      ]
    },
    {
      "cell_type": "code",
      "source": [
        "rateio = lanc_raterio.join(rateio_canal_segmento, ['dt_competencia'],'left')"
      ],
      "metadata": {
        "id": "idmR5L5OH1Wj"
      },
      "execution_count": 29,
      "outputs": []
    },
    {
      "cell_type": "code",
      "source": [
        "# Alguns valores ficaram duplicados, devido a sua condição de ter relação com mais de um canal (A/B) e segmento.\n",
        "rateio.count()"
      ],
      "metadata": {
        "colab": {
          "base_uri": "https://localhost:8080/"
        },
        "id": "tiKdmS1V0IFy",
        "outputId": "aa8f04b4-20b5-4939-e798-68e888bc0cdd"
      },
      "execution_count": 30,
      "outputs": [
        {
          "output_type": "execute_result",
          "data": {
            "text/plain": [
              "262"
            ]
          },
          "metadata": {},
          "execution_count": 30
        }
      ]
    },
    {
      "cell_type": "code",
      "source": [],
      "metadata": {
        "id": "ZyYdzMPCA0vJ"
      },
      "execution_count": 30,
      "outputs": []
    },
    {
      "cell_type": "markdown",
      "source": [
        "### Calculo final de RATEIO - relação das métricas * Valor do Lançamento"
      ],
      "metadata": {
        "id": "En6Z4lTIA1GB"
      }
    },
    {
      "cell_type": "code",
      "source": [
        "rateio_final = rateio.withColumn('valor_pos_rateio',F.col('valor')*F.col('canal_segmento_por_total_metrica'))\\\n",
        "                     .withColumn('flag_rateio', flag_rateio(F.col('canal_segmento_por_total_metrica')))\\\n",
        "                     .withColumn('valor_pos_rateio', valor_pos_rateio(F.col('valor'), F.col('valor_pos_rateio')))\\\n",
        "                     .select([\"id_lancamento\", \"id_centro_custo\", \"id_centro_resultado\", \"id_forma_pagamento\",\"ds_periodicidade\", \"dt_vencimento\", \"dt_pagamento\", \"dt_competencia\", \"valor\",\"ds_canal_aquisicao\",\"ds_segmento\", \"flag_rateio\", \"valor_pos_rateio\"])"
      ],
      "metadata": {
        "id": "-qgr6AM7QVIW"
      },
      "execution_count": 31,
      "outputs": []
    },
    {
      "cell_type": "code",
      "source": [
        "rateio_final.orderBy('dt_competencia').where('flag_rateio like \"S\"').show(15,False)"
      ],
      "metadata": {
        "colab": {
          "base_uri": "https://localhost:8080/"
        },
        "id": "4kij6DGzE-3y",
        "outputId": "1c7a89ee-f170-4070-ff53-92f0dd1c828d"
      },
      "execution_count": 32,
      "outputs": [
        {
          "output_type": "stream",
          "name": "stdout",
          "text": [
            "+-------------+---------------+-------------------+------------------+----------------+-------------------+-------------------+-------------------+--------+------------------+-----------+-----------+-------------------+\n",
            "|id_lancamento|id_centro_custo|id_centro_resultado|id_forma_pagamento|ds_periodicidade|dt_vencimento      |dt_pagamento       |dt_competencia     |valor   |ds_canal_aquisicao|ds_segmento|flag_rateio|valor_pos_rateio   |\n",
            "+-------------+---------------+-------------------+------------------+----------------+-------------------+-------------------+-------------------+--------+------------------+-----------+-----------+-------------------+\n",
            "|47475185     |0              |100                |402853            |NULL            |2024-10-31 00:00:00|2024-10-31 00:00:00|2024-10-31 00:00:00|-4544.0 |canalA            |segmento-M |S          |-1231.8146963678341|\n",
            "|47475174     |0              |100                |402853            |NULL            |2024-10-31 00:00:00|2024-10-31 00:00:00|2024-10-31 00:00:00|-239.59 |canalA            |segmento-R |S          |-47.750268783572956|\n",
            "|47475185     |0              |100                |402853            |NULL            |2024-10-31 00:00:00|2024-10-31 00:00:00|2024-10-31 00:00:00|-4544.0 |canalB            |segmento-R |S          |-13.033846665723297|\n",
            "|47475183     |0              |100                |402853            |NULL            |2024-10-31 00:00:00|2024-10-31 00:00:00|2024-10-31 00:00:00|-1404.52|canalA            |segmento-R |S          |-279.9207292120034 |\n",
            "|47475183     |0              |100                |402853            |NULL            |2024-10-31 00:00:00|2024-10-31 00:00:00|2024-10-31 00:00:00|-1404.52|canalA            |segmento-S |S          |-211.15789496966428|\n",
            "|47475182     |0              |100                |402853            |NULL            |2024-10-31 00:00:00|2024-10-31 00:00:00|2024-10-31 00:00:00|-82.6   |canalB            |segmento-M |S          |-16.14830663199297 |\n",
            "|47475183     |0              |100                |402853            |NULL            |2024-10-31 00:00:00|2024-10-31 00:00:00|2024-10-31 00:00:00|-1404.52|canalB            |segmento-S |S          |-254.08324660917   |\n",
            "|47475182     |0              |100                |402853            |NULL            |2024-10-31 00:00:00|2024-10-31 00:00:00|2024-10-31 00:00:00|-82.6   |canalA            |segmento-S |S          |-12.418222684258158|\n",
            "|47475183     |0              |100                |402853            |NULL            |2024-10-31 00:00:00|2024-10-31 00:00:00|2024-10-31 00:00:00|-1404.52|canalA            |segmento-M |S          |-380.74568163348374|\n",
            "|47475182     |0              |100                |402853            |NULL            |2024-10-31 00:00:00|2024-10-31 00:00:00|2024-10-31 00:00:00|-82.6   |canalA            |segmento-M |S          |-22.391702007038532|\n",
            "|47475183     |0              |100                |402853            |NULL            |2024-10-31 00:00:00|2024-10-31 00:00:00|2024-10-31 00:00:00|-1404.52|canalB            |segmento-R |S          |-4.0286748061051245|\n",
            "|47475185     |0              |100                |402853            |NULL            |2024-10-31 00:00:00|2024-10-31 00:00:00|2024-10-31 00:00:00|-4544.0 |canalB            |segmento-M |S          |-888.3523648399039 |\n",
            "|47475181     |0              |100                |402853            |NULL            |2024-10-31 00:00:00|2024-10-31 00:00:00|2024-10-31 00:00:00|-57.83  |canalB            |segmento-M |S          |-11.305769643197983|\n",
            "|47475185     |0              |100                |402853            |NULL            |2024-10-31 00:00:00|2024-10-31 00:00:00|2024-10-31 00:00:00|-4544.0 |canalA            |segmento-S |S          |-683.1525893131849 |\n",
            "|47475181     |0              |100                |402853            |NULL            |2024-10-31 00:00:00|2024-10-31 00:00:00|2024-10-31 00:00:00|-57.83  |canalA            |segmento-R |S          |-11.525514603088709|\n",
            "+-------------+---------------+-------------------+------------------+----------------+-------------------+-------------------+-------------------+--------+------------------+-----------+-----------+-------------------+\n",
            "only showing top 15 rows\n",
            "\n"
          ]
        }
      ]
    },
    {
      "cell_type": "markdown",
      "source": [
        "### Union com a outra parte do dataset que não estava dentro das exigências para o RATEAMENTO"
      ],
      "metadata": {
        "id": "jQcluBx6Emla"
      }
    },
    {
      "cell_type": "code",
      "source": [
        "save = rateio_final.union(lanc_nao_raterio)"
      ],
      "metadata": {
        "id": "JeVPwxdpYXb_"
      },
      "execution_count": 33,
      "outputs": []
    },
    {
      "cell_type": "code",
      "source": [
        "save.count()"
      ],
      "metadata": {
        "id": "nKLxHxfkYXeY",
        "colab": {
          "base_uri": "https://localhost:8080/"
        },
        "outputId": "c9618e0e-66ad-4d62-b05b-d5b0e4d46ef3"
      },
      "execution_count": 34,
      "outputs": [
        {
          "output_type": "execute_result",
          "data": {
            "text/plain": [
              "1402"
            ]
          },
          "metadata": {},
          "execution_count": 34
        }
      ]
    },
    {
      "cell_type": "code",
      "source": [
        "save.coalesce(1).write.mode('overwrite').parquet('/content/save/etapa1')"
      ],
      "metadata": {
        "id": "pD12bXrmQVK4"
      },
      "execution_count": 35,
      "outputs": []
    },
    {
      "cell_type": "code",
      "source": [],
      "metadata": {
        "id": "VecDW0XRsdmx"
      },
      "execution_count": 35,
      "outputs": []
    }
  ]
}
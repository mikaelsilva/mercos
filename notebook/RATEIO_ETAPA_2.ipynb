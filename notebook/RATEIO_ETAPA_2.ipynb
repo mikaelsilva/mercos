{
  "nbformat": 4,
  "nbformat_minor": 0,
  "metadata": {
    "colab": {
      "provenance": [],
      "collapsed_sections": [
        "bylpsLHHgEpy",
        "LyyYPh0U95xC",
        "GWlRY4wC-79C",
        "wbKygXHn_VC5",
        "En6Z4lTIA1GB",
        "jQcluBx6Emla"
      ]
    },
    "kernelspec": {
      "name": "python3",
      "display_name": "Python 3"
    },
    "language_info": {
      "name": "python"
    }
  },
  "cells": [
    {
      "cell_type": "code",
      "execution_count": 1,
      "metadata": {
        "colab": {
          "base_uri": "https://localhost:8080/"
        },
        "id": "2BhAb12Of2Qs",
        "outputId": "524eacfa-13a1-45e3-c639-cb8f71781262"
      },
      "outputs": [
        {
          "output_type": "stream",
          "name": "stdout",
          "text": [
            "Requirement already satisfied: pyspark in /usr/local/lib/python3.11/dist-packages (3.5.5)\n",
            "Requirement already satisfied: py4j==0.10.9.7 in /usr/local/lib/python3.11/dist-packages (from pyspark) (0.10.9.7)\n"
          ]
        }
      ],
      "source": [
        "!pip install pyspark"
      ]
    },
    {
      "cell_type": "code",
      "source": [
        "from pyspark.sql import SparkSession\n",
        "from pyspark.sql import functions as F\n",
        "import json"
      ],
      "metadata": {
        "id": "CQBbsVHCgBqF"
      },
      "execution_count": 2,
      "outputs": []
    },
    {
      "cell_type": "code",
      "source": [
        "spark = SparkSession.builder.appName('Rateio Etapa 2').getOrCreate()"
      ],
      "metadata": {
        "id": "Pc68YwgvgCOj"
      },
      "execution_count": 3,
      "outputs": []
    },
    {
      "cell_type": "code",
      "source": [
        "spark"
      ],
      "metadata": {
        "colab": {
          "base_uri": "https://localhost:8080/",
          "height": 219
        },
        "id": "EHERZCP5gYu8",
        "outputId": "ac026dd1-2000-402b-f1b2-5512274ecd41"
      },
      "execution_count": 4,
      "outputs": [
        {
          "output_type": "execute_result",
          "data": {
            "text/plain": [
              "<pyspark.sql.session.SparkSession at 0x79622c059b50>"
            ],
            "text/html": [
              "\n",
              "            <div>\n",
              "                <p><b>SparkSession - in-memory</b></p>\n",
              "                \n",
              "        <div>\n",
              "            <p><b>SparkContext</b></p>\n",
              "\n",
              "            <p><a href=\"http://1c657fdccbf6:4040\">Spark UI</a></p>\n",
              "\n",
              "            <dl>\n",
              "              <dt>Version</dt>\n",
              "                <dd><code>v3.5.5</code></dd>\n",
              "              <dt>Master</dt>\n",
              "                <dd><code>local[*]</code></dd>\n",
              "              <dt>AppName</dt>\n",
              "                <dd><code>Rateio Etapa 2</code></dd>\n",
              "            </dl>\n",
              "        </div>\n",
              "        \n",
              "            </div>\n",
              "        "
            ]
          },
          "metadata": {},
          "execution_count": 4
        }
      ]
    },
    {
      "cell_type": "code",
      "source": [],
      "metadata": {
        "id": "OcTpjciRxx-Y"
      },
      "execution_count": null,
      "outputs": []
    },
    {
      "cell_type": "markdown",
      "source": [
        "## Funções auxiliares"
      ],
      "metadata": {
        "id": "OFxt0LLOgCx7"
      }
    },
    {
      "cell_type": "code",
      "source": [
        "@F.udf('string')\n",
        "def data_formato(data):\n",
        "  if data:\n",
        "    if '/' in data:\n",
        "      data_ = data.split('/')\n",
        "      return data_[-1] + '-' + data_[1] + '-' + data_[0]\n",
        "  return data\n",
        "\n",
        "@F.udf('string')\n",
        "def flag_rateio(rateio):\n",
        "  if rateio:\n",
        "    return 'S'\n",
        "  return 'N'\n",
        "\n",
        "@F.udf('double')\n",
        "def valor_pos_rateio(valor, pos_rateio):\n",
        "  if pos_rateio is None:\n",
        "    return valor\n",
        "  return pos_rateio"
      ],
      "metadata": {
        "id": "5SW83ubgVzCz"
      },
      "execution_count": 5,
      "outputs": []
    },
    {
      "cell_type": "markdown",
      "source": [
        "## Leitura dos dados"
      ],
      "metadata": {
        "id": "bylpsLHHgEpy"
      }
    },
    {
      "cell_type": "code",
      "source": [
        "json_lancamentos = spark.read.json('/content/data/lancamentos.json')"
      ],
      "metadata": {
        "id": "Ek6PKngkgCQq"
      },
      "execution_count": 6,
      "outputs": []
    },
    {
      "cell_type": "code",
      "source": [
        "lancamentos = json_lancamentos.withColumn('array_columns', F.array(*[json_lancamentos.columns]))\\\n",
        "                              .select('array_columns')\\\n",
        "                              .withColumn('columns', F.explode('array_columns'))\\\n",
        "                              .select('columns')\\\n",
        "                              .select(\"columns.ds_periodicidade\",\"columns.dt_competencia\",\"columns.dt_pagamento\",\"columns.dt_vencimento\",\"columns.id_centro_custo\",\n",
        "\"columns.id_centro_resultado\",\"columns.id_forma_pagamento\",\"columns.id_lancamento\",\"columns.valor\")"
      ],
      "metadata": {
        "id": "O0GM_sc8ZSyb"
      },
      "execution_count": 7,
      "outputs": []
    },
    {
      "cell_type": "code",
      "source": [
        "lancamentos.show(5,False)"
      ],
      "metadata": {
        "colab": {
          "base_uri": "https://localhost:8080/"
        },
        "id": "mD3PoAoSZS4i",
        "outputId": "a80544f7-14b4-4124-ad89-67dbb0f63e83"
      },
      "execution_count": 8,
      "outputs": [
        {
          "output_type": "stream",
          "name": "stdout",
          "text": [
            "+----------------+--------------+------------+-------------+---------------+-------------------+------------------+-------------+--------+\n",
            "|ds_periodicidade|dt_competencia|dt_pagamento|dt_vencimento|id_centro_custo|id_centro_resultado|id_forma_pagamento|id_lancamento|valor   |\n",
            "+----------------+--------------+------------+-------------+---------------+-------------------+------------------+-------------+--------+\n",
            "|NULL            |30/11/2024    |NULL        |2024-10-31   |125737         |288                |236252            |47152863     |-125.49 |\n",
            "|NULL            |31/10/2024    |NULL        |2024-10-31   |32             |902                |236252            |46975400     |-209.13 |\n",
            "|NULL            |18/09/2024    |2024-09-19  |2024-09-20   |32             |902                |402884            |45095379     |-3540.64|\n",
            "|NULL            |30/09/2024    |NULL        |2024-09-30   |32             |902                |236252            |45905422     |1.98    |\n",
            "|NULL            |01/12/2024    |NULL        |2025-01-15   |81044          |204                |236252            |50807591     |-1574.74|\n",
            "+----------------+--------------+------------+-------------+---------------+-------------------+------------------+-------------+--------+\n",
            "only showing top 5 rows\n",
            "\n"
          ]
        }
      ]
    },
    {
      "cell_type": "code",
      "source": [],
      "metadata": {
        "id": "QuVk8w1eZb_q"
      },
      "execution_count": null,
      "outputs": []
    },
    {
      "cell_type": "code",
      "source": [
        "json_metricas = spark.read.json('/content/data/metricas.json')"
      ],
      "metadata": {
        "id": "4gVRp9GGZVOC"
      },
      "execution_count": 9,
      "outputs": []
    },
    {
      "cell_type": "code",
      "source": [
        "metricas = json_metricas.withColumn('array_columns', F.array(*[json_metricas.columns]))\\\n",
        "                              .select('array_columns')\\\n",
        "                              .withColumn('columns', F.explode('array_columns'))\\\n",
        "                              .select('columns')\\\n",
        "                              .select(\"columns.ds_canal_aquisicao\",\"columns.ds_metrica\",\"columns.ds_segmento\",\"columns.dt_referencia\",\"columns.total\")"
      ],
      "metadata": {
        "id": "7NErHxmtagnO"
      },
      "execution_count": 10,
      "outputs": []
    },
    {
      "cell_type": "code",
      "source": [
        "metricas.show(5,False)"
      ],
      "metadata": {
        "id": "mfVpGfjPTsJN",
        "colab": {
          "base_uri": "https://localhost:8080/"
        },
        "outputId": "4f2e913b-a951-4470-d03f-01c4469a93c6"
      },
      "execution_count": 11,
      "outputs": [
        {
          "output_type": "stream",
          "name": "stdout",
          "text": [
            "+------------------+----------+-----------+-------------+--------+\n",
            "|ds_canal_aquisicao|ds_metrica|ds_segmento|dt_referencia|total   |\n",
            "+------------------+----------+-----------+-------------+--------+\n",
            "|canalA            |metrica_1 |segmento-S |2024-10-31   |10906.27|\n",
            "|canalA            |metrica_1 |segmento-M |2024-11-30   |21518.88|\n",
            "|canalB            |metrica_2 |segmento-R |2022-09-30   |11646.6 |\n",
            "|canalB            |metrica_3 |segmento-M |2023-06-30   |21305.87|\n",
            "|canalB            |metrica_3 |segmento-S |2023-06-30   |26511.85|\n",
            "+------------------+----------+-----------+-------------+--------+\n",
            "only showing top 5 rows\n",
            "\n"
          ]
        }
      ]
    },
    {
      "cell_type": "code",
      "source": [],
      "metadata": {
        "id": "7AkDPfg6ZX7a"
      },
      "execution_count": null,
      "outputs": []
    },
    {
      "cell_type": "markdown",
      "source": [
        "## Rateio 2 - CENTROS (268 | 288) - Por segmentos\n",
        "1. Realizar o cast de todos os campos de datas e o campo de valor\n",
        "1. Filtro dos lançamentos dos meses de OUTUBRO e NOVEMBRO\n",
        "1. Separar o dataset em 2:\n",
        "  - Filtro dos centros 268 (centro custo - 125736) e 288 (centro de custo 125737)\n",
        "  - Restando do dataset fora os centros (268 e 288)\n",
        "1. Preparar o dataset de métricas, agrupando o valores totais por SEGMENTO (ANO, MES) | TOTAL SEGMENTO (ANO, MES) | TOTAL_METRICA_2 (ANO, MES)\n",
        "1. Calculo do valor (metrica do segmento / total metrica 2)\n",
        "1. Join com a tabela de LANÇAMENTOS e calculo com o Valor de Lançamento\n",
        "1. Criação de colunas de FLAG_RATEIO indicando se houve rateio para aquele dado e coluna VALOR_POS_RATEIO\n",
        "1. Select e ordenaçao de colunas para uma melhor visualização dos dados\n",
        "1. Union com os dados que não foram analisados para o rateio\n",
        "1. Salvamento dos dados .parquet"
      ],
      "metadata": {
        "id": "c2NCfuErsLyP"
      }
    },
    {
      "cell_type": "code",
      "source": [
        "lanc = lancamentos.withColumn('dt_vencimento',F.col('dt_vencimento').cast('timestamp'))\\\n",
        "                  .withColumn('dt_pagamento',F.col('dt_pagamento').cast('timestamp'))\\\n",
        "                  .withColumn('dt_competencia',data_formato(F.col('dt_competencia')).cast('timestamp'))\\\n",
        "                  .withColumn('valor',F.col('valor').cast('double'))"
      ],
      "metadata": {
        "id": "j9HAWY3MsYcv"
      },
      "execution_count": 12,
      "outputs": []
    },
    {
      "cell_type": "markdown",
      "source": [
        "### Separando os DATASETS"
      ],
      "metadata": {
        "id": "LyyYPh0U95xC"
      }
    },
    {
      "cell_type": "code",
      "source": [
        "## Parte do dataset para RATEIO\n",
        "lanc_rateio = lanc.where('month(dt_competencia) = 10 or month(dt_competencia) = 11')\\\n",
        "                   .where('id_centro_resultado = 268 or id_centro_resultado = 288')"
      ],
      "metadata": {
        "id": "l7o9Mvddmli9"
      },
      "execution_count": 13,
      "outputs": []
    },
    {
      "cell_type": "code",
      "source": [
        "## Parte do dataset que NAO sera feito RATEIO\n",
        "lanc_nao_rateio = lanc.where('(month(dt_competencia) != 10 and month(dt_competencia) != 11) or (id_centro_resultado != 268 and id_centro_resultado != 288)')\\\n",
        "                       .withColumn('flag_rateio', F.lit('N').cast('string'))\\\n",
        "                       .withColumn('valor_pos_rateio', F.col('valor'))\\\n",
        "                       .withColumn('ds_segmento', F.lit(None))\\\n",
        "                       .select([\"id_lancamento\", \"id_centro_custo\", \"id_centro_resultado\", \"id_forma_pagamento\",\"ds_periodicidade\", \"dt_vencimento\", \"dt_pagamento\", \"dt_competencia\", \"valor\",\"ds_segmento\", \"flag_rateio\", \"valor_pos_rateio\"])"
      ],
      "metadata": {
        "id": "lvo9MF7XnF1J"
      },
      "execution_count": 14,
      "outputs": []
    },
    {
      "cell_type": "code",
      "source": [
        "# Count total da tabela\n",
        "lanc.count()"
      ],
      "metadata": {
        "colab": {
          "base_uri": "https://localhost:8080/"
        },
        "id": "GalZ6g0hocFu",
        "outputId": "81669afb-8bc8-4b78-d0be-392852efa922"
      },
      "execution_count": 15,
      "outputs": [
        {
          "output_type": "execute_result",
          "data": {
            "text/plain": [
              "1312"
            ]
          },
          "metadata": {},
          "execution_count": 15
        }
      ]
    },
    {
      "cell_type": "code",
      "source": [
        "# Count dos valores para RATEIO\n",
        "lanc_rateio.count()"
      ],
      "metadata": {
        "colab": {
          "base_uri": "https://localhost:8080/"
        },
        "id": "MuythqBk11do",
        "outputId": "2d341628-c04e-4c98-99d7-c73841ae0b84"
      },
      "execution_count": 16,
      "outputs": [
        {
          "output_type": "execute_result",
          "data": {
            "text/plain": [
              "142"
            ]
          },
          "metadata": {},
          "execution_count": 16
        }
      ]
    },
    {
      "cell_type": "code",
      "source": [
        "# Count dos valores para NAO RATEIO\n",
        "lanc_nao_rateio.count()"
      ],
      "metadata": {
        "colab": {
          "base_uri": "https://localhost:8080/"
        },
        "id": "oYa1lciypQOf",
        "outputId": "bf30a47e-d71e-4879-a910-269d25942e1e"
      },
      "execution_count": 17,
      "outputs": [
        {
          "output_type": "execute_result",
          "data": {
            "text/plain": [
              "1170"
            ]
          },
          "metadata": {},
          "execution_count": 17
        }
      ]
    },
    {
      "cell_type": "code",
      "source": [],
      "metadata": {
        "id": "Ge_ijF8LoSFO"
      },
      "execution_count": 17,
      "outputs": []
    },
    {
      "cell_type": "markdown",
      "source": [
        "### Preparando o dataset de metricas"
      ],
      "metadata": {
        "id": "GWlRY4wC-79C"
      }
    },
    {
      "cell_type": "code",
      "source": [
        "metr = metricas.where(\"ds_metrica like 'metrica_2'\")\\\n",
        "               .withColumn('dt_referencia', F.col('dt_referencia').cast('timestamp'))\\\n",
        "               .withColumn('total',F.col('total').cast('double'))\\\n",
        "               .withColumn('year', F.month('dt_referencia'))\\\n",
        "               .withColumn('month', F.month('dt_referencia'))\\\n",
        "               .where('month = 10 or month = 11')\\\n",
        "               .where('ds_segmento like \"%segmento%\"')\\\n",
        "               .select('dt_referencia','ds_segmento','total','year','month')"
      ],
      "metadata": {
        "id": "kmUlccJL6Qbn"
      },
      "execution_count": 18,
      "outputs": []
    },
    {
      "cell_type": "code",
      "source": [
        "metr.count()"
      ],
      "metadata": {
        "colab": {
          "base_uri": "https://localhost:8080/"
        },
        "id": "BYUDbXtwWa9o",
        "outputId": "fcafd233-bdc7-4e09-e610-4d1f16bdfd54"
      },
      "execution_count": 19,
      "outputs": [
        {
          "output_type": "execute_result",
          "data": {
            "text/plain": [
              "41"
            ]
          },
          "metadata": {},
          "execution_count": 19
        }
      ]
    },
    {
      "cell_type": "code",
      "source": [
        "metr.show(12,False)"
      ],
      "metadata": {
        "colab": {
          "base_uri": "https://localhost:8080/"
        },
        "id": "-yQUoGB3YJQV",
        "outputId": "f8030de2-b265-450b-a8db-15f6412bea48"
      },
      "execution_count": 20,
      "outputs": [
        {
          "output_type": "stream",
          "name": "stdout",
          "text": [
            "+-------------------+-----------+-----------------+----+-----+\n",
            "|dt_referencia      |ds_segmento|total            |year|month|\n",
            "+-------------------+-----------+-----------------+----+-----+\n",
            "|2022-10-31 00:00:00|segmento-M |43033.34         |10  |10   |\n",
            "|2022-11-30 00:00:00|segmento-S |509890.3099999999|11  |11   |\n",
            "|2022-11-30 00:00:00|segmento-M |43478.65         |11  |11   |\n",
            "|2022-11-30 00:00:00|segmento-S |484163.4900000003|11  |11   |\n",
            "|2022-10-31 00:00:00|segmento-M |803912.6300000001|10  |10   |\n",
            "|2022-10-31 00:00:00|segmento-R |15843.29         |10  |10   |\n",
            "|2022-10-31 00:00:00|segmento-S |506732.48        |10  |10   |\n",
            "|2022-10-31 00:00:00|segmento-M |582887.0499999999|10  |10   |\n",
            "|2022-10-31 00:00:00|segmento-S |468160.9000000006|10  |10   |\n",
            "|2022-11-30 00:00:00|segmento-M |812105.2599999997|11  |11   |\n",
            "|2022-11-30 00:00:00|segmento-R |16040.33         |11  |11   |\n",
            "|2022-11-30 00:00:00|segmento-R |11646.6          |11  |11   |\n",
            "+-------------------+-----------+-----------------+----+-----+\n",
            "only showing top 12 rows\n",
            "\n"
          ]
        }
      ]
    },
    {
      "cell_type": "code",
      "source": [
        "metr_total_dia_segmento = metr.select('dt_referencia','ds_segmento','total')\\\n",
        "                              .groupBy(['dt_referencia','ds_segmento'])\\\n",
        "                              .agg(F.sum(\"total\").alias(\"total_dia_segmento\"))\\\n",
        "                              .withColumn('month', F.month('dt_referencia'))"
      ],
      "metadata": {
        "id": "hELaMR3__xQ3"
      },
      "execution_count": 21,
      "outputs": []
    },
    {
      "cell_type": "code",
      "source": [
        "metr_total_dia_segmento.show(5,False)"
      ],
      "metadata": {
        "colab": {
          "base_uri": "https://localhost:8080/"
        },
        "id": "-UqxfEO7SixL",
        "outputId": "225b54c9-4d5c-4940-ebb6-0e2f3c715231"
      },
      "execution_count": 22,
      "outputs": [
        {
          "output_type": "stream",
          "name": "stdout",
          "text": [
            "+-------------------+-----------+------------------+-----+\n",
            "|dt_referencia      |ds_segmento|total_dia_segmento|month|\n",
            "+-------------------+-----------+------------------+-----+\n",
            "|2023-10-31 00:00:00|segmento-M |1893818.5400000014|10   |\n",
            "|2024-10-31 00:00:00|segmento-S |1679404.3400000024|10   |\n",
            "|2024-11-30 00:00:00|segmento-M |2406548.160000001 |11   |\n",
            "|2024-11-30 00:00:00|segmento-S |1704480.1100000022|11   |\n",
            "|2022-10-31 00:00:00|segmento-M |1429833.02        |10   |\n",
            "+-------------------+-----------+------------------+-----+\n",
            "only showing top 5 rows\n",
            "\n"
          ]
        }
      ]
    },
    {
      "cell_type": "code",
      "source": [
        "total_mes_metrica_2 = metr_total_dia_segmento.withColumn('year', F.year('dt_referencia'))\\\n",
        "                                             .groupBy(['year','month'])\\\n",
        "                                             .agg(F.sum(\"total_dia_segmento\").alias(\"total_mes_metrica_2\"))"
      ],
      "metadata": {
        "id": "BFdGRlqmSXnb"
      },
      "execution_count": 23,
      "outputs": []
    },
    {
      "cell_type": "code",
      "source": [
        "total_mes_metrica_2.show(15,False)"
      ],
      "metadata": {
        "colab": {
          "base_uri": "https://localhost:8080/"
        },
        "id": "Ad7yhq6iSYGF",
        "outputId": "15e3c54b-51be-4d04-c004-ad931058193f"
      },
      "execution_count": 24,
      "outputs": [
        {
          "output_type": "stream",
          "name": "stdout",
          "text": [
            "+----+-----+-------------------+\n",
            "|year|month|total_mes_metrica_2|\n",
            "+----+-----+-------------------+\n",
            "|2022|10   |2444200.4300000006 |\n",
            "|2024|10   |5069966.460000005  |\n",
            "|2022|11   |2464933.98         |\n",
            "|2023|11   |4382979.360000007  |\n",
            "|2024|11   |5131834.320000003  |\n",
            "|2023|10   |4333680.740000005  |\n",
            "+----+-----+-------------------+\n",
            "\n"
          ]
        }
      ]
    },
    {
      "cell_type": "markdown",
      "source": [
        "### Calculando -> Valor Rateado para Canal = (Métrica do Canal / Total da Métrica)"
      ],
      "metadata": {
        "id": "wbKygXHn_VC5"
      }
    },
    {
      "cell_type": "code",
      "source": [
        "rateio_canal_segmento = metr_total_dia_segmento.withColumn('year', F.year('dt_referencia'))\\\n",
        "                                               .join(total_mes_metrica_2, ['year','month'])\\\n",
        "                                               .withColumn('canal_segmento_por_total_metrica',F.col('total_dia_segmento')/F.col('total_mes_metrica_2'))\\\n",
        "                                               .withColumnRenamed('dt_referencia','dt_competencia')\\\n",
        "                                               .select('dt_competencia','ds_segmento','canal_segmento_por_total_metrica')"
      ],
      "metadata": {
        "id": "B_WfoAxhLYiX"
      },
      "execution_count": 25,
      "outputs": []
    },
    {
      "cell_type": "code",
      "source": [
        "rateio_canal_segmento.show(5,False)"
      ],
      "metadata": {
        "colab": {
          "base_uri": "https://localhost:8080/"
        },
        "id": "BlsuM--VLo6M",
        "outputId": "ef6fb324-95a6-45fa-c8ec-eb3f15bdf177"
      },
      "execution_count": 26,
      "outputs": [
        {
          "output_type": "stream",
          "name": "stdout",
          "text": [
            "+-------------------+-----------+--------------------------------+\n",
            "|dt_competencia     |ds_segmento|canal_segmento_por_total_metrica|\n",
            "+-------------------+-----------+--------------------------------+\n",
            "|2023-10-31 00:00:00|segmento-M |0.4370000130651062              |\n",
            "|2024-10-31 00:00:00|segmento-S |0.33124565088345787             |\n",
            "|2024-11-30 00:00:00|segmento-M |0.4689450223716497              |\n",
            "|2024-11-30 00:00:00|segmento-S |0.3321385695086121              |\n",
            "|2022-10-31 00:00:00|segmento-M |0.584990086103536               |\n",
            "+-------------------+-----------+--------------------------------+\n",
            "only showing top 5 rows\n",
            "\n"
          ]
        }
      ]
    },
    {
      "cell_type": "code",
      "source": [
        "rateio = lanc_rateio.join(rateio_canal_segmento, ['dt_competencia'],'left')"
      ],
      "metadata": {
        "id": "idmR5L5OH1Wj"
      },
      "execution_count": 27,
      "outputs": []
    },
    {
      "cell_type": "code",
      "source": [
        "# Alguns valores ficaram duplicados, devido a sua condição de ter relação com mais de um segmento.\n",
        "rateio.count()"
      ],
      "metadata": {
        "colab": {
          "base_uri": "https://localhost:8080/"
        },
        "id": "tiKdmS1V0IFy",
        "outputId": "95750d6e-55d5-4f9a-be4b-5a3659a8b918"
      },
      "execution_count": 28,
      "outputs": [
        {
          "output_type": "execute_result",
          "data": {
            "text/plain": [
              "158"
            ]
          },
          "metadata": {},
          "execution_count": 28
        }
      ]
    },
    {
      "cell_type": "code",
      "source": [],
      "metadata": {
        "id": "ZyYdzMPCA0vJ"
      },
      "execution_count": 28,
      "outputs": []
    },
    {
      "cell_type": "markdown",
      "source": [
        "### Calculo final de RATEIO - relação das métricas * Valor do Lançamento"
      ],
      "metadata": {
        "id": "En6Z4lTIA1GB"
      }
    },
    {
      "cell_type": "code",
      "source": [
        "rateio_final = rateio.withColumn('valor_pos_rateio',F.col('valor')*F.col('canal_segmento_por_total_metrica'))\\\n",
        "                     .withColumn('flag_rateio', flag_rateio(F.col('canal_segmento_por_total_metrica')))\\\n",
        "                     .withColumn('valor_pos_rateio', valor_pos_rateio(F.col('valor'), F.col('valor_pos_rateio')))\\\n",
        "                     .select([\"id_lancamento\", \"id_centro_custo\", \"id_centro_resultado\", \"id_forma_pagamento\",\"ds_periodicidade\", \"dt_vencimento\", \"dt_pagamento\", \"dt_competencia\", \"valor\",\"ds_segmento\", \"flag_rateio\", \"valor_pos_rateio\"])\\\n",
        "                     .where(\"flag_rateio like 'S'\").orderBy('id_lancamento')"
      ],
      "metadata": {
        "id": "-qgr6AM7QVIW"
      },
      "execution_count": 29,
      "outputs": []
    },
    {
      "cell_type": "code",
      "source": [
        "rateio_final.show(10,False)"
      ],
      "metadata": {
        "colab": {
          "base_uri": "https://localhost:8080/"
        },
        "id": "4kij6DGzE-3y",
        "outputId": "88d9b8b5-1523-4524-f5ff-34f1a3a8625c"
      },
      "execution_count": 30,
      "outputs": [
        {
          "output_type": "stream",
          "name": "stdout",
          "text": [
            "+-------------+---------------+-------------------+------------------+----------------+-------------------+------------+-------------------+-------+-----------+-----------+-------------------+\n",
            "|id_lancamento|id_centro_custo|id_centro_resultado|id_forma_pagamento|ds_periodicidade|dt_vencimento      |dt_pagamento|dt_competencia     |valor  |ds_segmento|flag_rateio|valor_pos_rateio   |\n",
            "+-------------+---------------+-------------------+------------------+----------------+-------------------+------------+-------------------+-------+-----------+-----------+-------------------+\n",
            "|46975389     |125736         |268                |236252            |NULL            |2024-10-31 00:00:00|NULL        |2024-10-31 00:00:00|-418.28|segmento-R |S          |-84.56295155120213 |\n",
            "|46975389     |125736         |268                |236252            |NULL            |2024-10-31 00:00:00|NULL        |2024-10-31 00:00:00|-418.28|segmento-M |S          |-195.16361759726507|\n",
            "|46975389     |125736         |268                |236252            |NULL            |2024-10-31 00:00:00|NULL        |2024-10-31 00:00:00|-418.28|segmento-S |S          |-138.55343085153274|\n",
            "|46975390     |125736         |268                |236252            |NULL            |2024-10-31 00:00:00|NULL        |2024-10-31 00:00:00|-83.66 |segmento-R |S          |-16.91339898339287 |\n",
            "|46975390     |125736         |268                |236252            |NULL            |2024-10-31 00:00:00|NULL        |2024-10-31 00:00:00|-83.66 |segmento-M |S          |-39.034589863697036|\n",
            "|46975390     |125736         |268                |236252            |NULL            |2024-10-31 00:00:00|NULL        |2024-10-31 00:00:00|-83.66 |segmento-S |S          |-27.712011152910083|\n",
            "|46975393     |125737         |288                |236252            |NULL            |2024-10-31 00:00:00|NULL        |2024-10-31 00:00:00|-418.28|segmento-R |S          |-84.56295155120213 |\n",
            "|46975393     |125737         |288                |236252            |NULL            |2024-10-31 00:00:00|NULL        |2024-10-31 00:00:00|-418.28|segmento-M |S          |-195.16361759726507|\n",
            "|46975393     |125737         |288                |236252            |NULL            |2024-10-31 00:00:00|NULL        |2024-10-31 00:00:00|-418.28|segmento-S |S          |-138.55343085153274|\n",
            "|46975394     |125737         |288                |236252            |NULL            |2024-10-31 00:00:00|NULL        |2024-10-31 00:00:00|-125.49|segmento-R |S          |-25.370098475089307|\n",
            "+-------------+---------------+-------------------+------------------+----------------+-------------------+------------+-------------------+-------+-----------+-----------+-------------------+\n",
            "only showing top 10 rows\n",
            "\n"
          ]
        }
      ]
    },
    {
      "cell_type": "markdown",
      "source": [
        "### Union com a outra parte do dataset que não estava dentro das exigências para o RATEAMENTO"
      ],
      "metadata": {
        "id": "jQcluBx6Emla"
      }
    },
    {
      "cell_type": "code",
      "source": [
        "save = rateio_final.union(lanc_nao_rateio)"
      ],
      "metadata": {
        "id": "JeVPwxdpYXb_"
      },
      "execution_count": 31,
      "outputs": []
    },
    {
      "cell_type": "code",
      "source": [
        "save.count()"
      ],
      "metadata": {
        "id": "nKLxHxfkYXeY",
        "colab": {
          "base_uri": "https://localhost:8080/"
        },
        "outputId": "b01ad53e-a22b-4fd8-b72c-19c2909591d6"
      },
      "execution_count": 32,
      "outputs": [
        {
          "output_type": "execute_result",
          "data": {
            "text/plain": [
              "1194"
            ]
          },
          "metadata": {},
          "execution_count": 32
        }
      ]
    },
    {
      "cell_type": "code",
      "source": [
        "save.show(5,False)"
      ],
      "metadata": {
        "colab": {
          "base_uri": "https://localhost:8080/"
        },
        "id": "nT1VYsJHE16K",
        "outputId": "ac09d905-d91b-42df-d0d1-024999296248"
      },
      "execution_count": 33,
      "outputs": [
        {
          "output_type": "stream",
          "name": "stdout",
          "text": [
            "+-------------+---------------+-------------------+------------------+----------------+-------------------+------------+-------------------+-------+-----------+-----------+-------------------+\n",
            "|id_lancamento|id_centro_custo|id_centro_resultado|id_forma_pagamento|ds_periodicidade|dt_vencimento      |dt_pagamento|dt_competencia     |valor  |ds_segmento|flag_rateio|valor_pos_rateio   |\n",
            "+-------------+---------------+-------------------+------------------+----------------+-------------------+------------+-------------------+-------+-----------+-----------+-------------------+\n",
            "|46975389     |125736         |268                |236252            |NULL            |2024-10-31 00:00:00|NULL        |2024-10-31 00:00:00|-418.28|segmento-R |S          |-84.56295155120213 |\n",
            "|46975389     |125736         |268                |236252            |NULL            |2024-10-31 00:00:00|NULL        |2024-10-31 00:00:00|-418.28|segmento-M |S          |-195.16361759726507|\n",
            "|46975389     |125736         |268                |236252            |NULL            |2024-10-31 00:00:00|NULL        |2024-10-31 00:00:00|-418.28|segmento-S |S          |-138.55343085153274|\n",
            "|46975390     |125736         |268                |236252            |NULL            |2024-10-31 00:00:00|NULL        |2024-10-31 00:00:00|-83.66 |segmento-R |S          |-16.91339898339287 |\n",
            "|46975390     |125736         |268                |236252            |NULL            |2024-10-31 00:00:00|NULL        |2024-10-31 00:00:00|-83.66 |segmento-M |S          |-39.034589863697036|\n",
            "+-------------+---------------+-------------------+------------------+----------------+-------------------+------------+-------------------+-------+-----------+-----------+-------------------+\n",
            "only showing top 5 rows\n",
            "\n"
          ]
        }
      ]
    },
    {
      "cell_type": "code",
      "source": [
        "save.coalesce(1).write.mode('overwrite').parquet('/content/save/etapa2')"
      ],
      "metadata": {
        "id": "pD12bXrmQVK4"
      },
      "execution_count": 34,
      "outputs": []
    },
    {
      "cell_type": "code",
      "source": [],
      "metadata": {
        "id": "VecDW0XRsdmx"
      },
      "execution_count": 34,
      "outputs": []
    }
  ]
}